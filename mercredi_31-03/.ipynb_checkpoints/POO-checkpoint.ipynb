{
 "cells": [
  {
   "cell_type": "code",
   "execution_count": 30,
   "id": "featured-circuit",
   "metadata": {},
   "outputs": [
    {
     "name": "stdout",
     "output_type": "stream",
     "text": [
      "Le solde du compte bancaire de Duchmol est de 950 euros\n",
      "Le solde du compte bancaire de Dupont est de 25 euros\n"
     ]
    }
   ],
   "source": [
    "class BankAccount:\n",
    "    def __init__(self, name = \"Dupont\", sold = 0):\n",
    "         self._name = name\n",
    "         self._sold = sold\n",
    "          \n",
    "    #Get & Set        \n",
    "    def get_name(self):\n",
    "        return self._name\n",
    "    def set_name(self, x):\n",
    "        self._name = x\n",
    "        \n",
    "    def get_sold(self):\n",
    "        return self._sold\n",
    "    def set_sold(self, x):\n",
    "        self._sold = x\n",
    "    \n",
    "    #Method\n",
    "    def depot(self, somme):\n",
    "        self._sold += somme\n",
    "    def retrait(self, somme):\n",
    "        self._sold -= somme\n",
    "    def affiche(self):\n",
    "        print(\"Le solde du compte bancaire de \"+str(self._name)+\" est de \"+str(self._sold)+\" euros\")        \n",
    "\n",
    "compte1 = BankAccount(\"Duchmol\", 800)\n",
    "compte1.depot(350)\n",
    "compte1.retrait(200)\n",
    "compte1.affiche()\n",
    "compte2 = BankAccount()\n",
    "compte2.depot(25)\n",
    "compte2.affiche()\n"
   ]
  },
  {
   "cell_type": "code",
   "execution_count": 59,
   "id": "hawaiian-cameroon",
   "metadata": {},
   "outputs": [
    {
     "name": "stdout",
     "output_type": "stream",
     "text": [
      "P( 2.0 , 3.0 )\n",
      "P( 1.0 , -5.0 , 6.0 )\n"
     ]
    }
   ],
   "source": [
    "import decimal\n",
    "class Point:\n",
    "    def __init__(self, x = 0, y = 0, z = None):\n",
    "         self._x = float(x)\n",
    "         self._y = float(y)\n",
    "         self._z = z\n",
    "    \n",
    "    #Method\n",
    "    def ToString(self):\n",
    "        if (self._z==None):\n",
    "            print(\"P(\",self._x,\",\",self._y,\")\")\n",
    "        else:\n",
    "            print(\"P(\",self._x,\",\",self._y,\",\",float(self._z),\")\")\n",
    "P1=Point(2,3)\n",
    "P1.ToString()\n",
    "P2=Point(1,-5,6)\n",
    "P2.ToString()"
   ]
  },
  {
   "cell_type": "code",
   "execution_count": null,
   "id": "integral-discharge",
   "metadata": {},
   "outputs": [],
   "source": []
  }
 ],
 "metadata": {
  "kernelspec": {
   "display_name": "Python 3",
   "language": "python",
   "name": "python3"
  },
  "language_info": {
   "codemirror_mode": {
    "name": "ipython",
    "version": 3
   },
   "file_extension": ".py",
   "mimetype": "text/x-python",
   "name": "python",
   "nbconvert_exporter": "python",
   "pygments_lexer": "ipython3",
   "version": "3.9.2"
  }
 },
 "nbformat": 4,
 "nbformat_minor": 5
}
