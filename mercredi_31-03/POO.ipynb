{
 "cells": [
  {
   "cell_type": "code",
   "execution_count": 30,
   "id": "declared-plasma",
   "metadata": {},
   "outputs": [
    {
     "name": "stdout",
     "output_type": "stream",
     "text": [
      "Le solde du compte bancaire de Duchmol est de 950 euros\n",
      "Le solde du compte bancaire de Dupont est de 25 euros\n"
     ]
    }
   ],
   "source": [
    "class BankAccount:\n",
    "    def __init__(self, name = \"Dupont\", sold = 0):\n",
    "         self._name = name\n",
    "         self._sold = sold\n",
    "          \n",
    "    #Get & Set        \n",
    "    def get_name(self):\n",
    "        return self._name\n",
    "    def set_name(self, x):\n",
    "        self._name = x\n",
    "        \n",
    "    def get_sold(self):\n",
    "        return self._sold\n",
    "    def set_sold(self, x):\n",
    "        self._sold = x\n",
    "    \n",
    "    #Method\n",
    "    def depot(self, somme):\n",
    "        self._sold += somme\n",
    "    def retrait(self, somme):\n",
    "        self._sold -= somme\n",
    "    def affiche(self):\n",
    "        print(\"Le solde du compte bancaire de \"+str(self._name)+\" est de \"+str(self._sold)+\" euros\")        \n",
    "\n",
    "compte1 = BankAccount(\"Duchmol\", 800)\n",
    "compte1.depot(350)\n",
    "compte1.retrait(200)\n",
    "compte1.affiche()\n",
    "compte2 = BankAccount()\n",
    "compte2.depot(25)\n",
    "compte2.affiche()\n"
   ]
  }
 ],
 "metadata": {
  "kernelspec": {
   "display_name": "Python 3",
   "language": "python",
   "name": "python3"
  },
  "language_info": {
   "codemirror_mode": {
    "name": "ipython",
    "version": 3
   },
   "file_extension": ".py",
   "mimetype": "text/x-python",
   "name": "python",
   "nbconvert_exporter": "python",
   "pygments_lexer": "ipython3",
   "version": "3.9.2"
  }
 },
 "nbformat": 4,
 "nbformat_minor": 5
}
