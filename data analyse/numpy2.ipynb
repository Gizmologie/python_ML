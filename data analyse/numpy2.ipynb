{
 "cells": [
  {
   "cell_type": "code",
   "execution_count": 1,
   "id": "psychological-mailman",
   "metadata": {},
   "outputs": [
    {
     "data": {
      "text/plain": [
       "'1.20.2'"
      ]
     },
     "execution_count": 1,
     "metadata": {},
     "output_type": "execute_result"
    }
   ],
   "source": [
    "import numpy as np\n",
    "import random\n",
    "np.version.version"
   ]
  },
  {
   "cell_type": "code",
   "execution_count": 2,
   "id": "regulation-trader",
   "metadata": {},
   "outputs": [
    {
     "data": {
      "text/plain": [
       "array([[89, 91,  9, 94],\n",
       "       [23, 49, 32, 71],\n",
       "       [96, 40, 13, 70],\n",
       "       [62, 15, 49,  6]])"
      ]
     },
     "execution_count": 2,
     "metadata": {},
     "output_type": "execute_result"
    }
   ],
   "source": [
    "rand = np.random.randint(0, 100, 16).reshape(4,4)\n",
    "rand"
   ]
  },
  {
   "cell_type": "code",
   "execution_count": 3,
   "id": "charitable-maximum",
   "metadata": {},
   "outputs": [
    {
     "data": {
      "text/plain": [
       "numpy.ndarray"
      ]
     },
     "execution_count": 3,
     "metadata": {},
     "output_type": "execute_result"
    }
   ],
   "source": [
    "type(rand)"
   ]
  },
  {
   "cell_type": "code",
   "execution_count": 4,
   "id": "administrative-desert",
   "metadata": {},
   "outputs": [
    {
     "data": {
      "text/plain": [
       "809"
      ]
     },
     "execution_count": 4,
     "metadata": {},
     "output_type": "execute_result"
    }
   ],
   "source": [
    "np.sum(rand)"
   ]
  },
  {
   "cell_type": "code",
   "execution_count": 5,
   "id": "civil-summer",
   "metadata": {},
   "outputs": [
    {
     "data": {
      "text/plain": [
       "array([94, 71, 96, 62])"
      ]
     },
     "execution_count": 5,
     "metadata": {},
     "output_type": "execute_result"
    }
   ],
   "source": [
    "np.max(rand, axis=1)"
   ]
  },
  {
   "cell_type": "code",
   "execution_count": 6,
   "id": "protective-detail",
   "metadata": {},
   "outputs": [
    {
     "data": {
      "text/plain": [
       "array([96, 91, 49, 94])"
      ]
     },
     "execution_count": 6,
     "metadata": {},
     "output_type": "execute_result"
    }
   ],
   "source": [
    "np.max(rand, axis=0)"
   ]
  },
  {
   "cell_type": "code",
   "execution_count": 9,
   "id": "important-economy",
   "metadata": {},
   "outputs": [
    {
     "data": {
      "text/plain": [
       "array([78, 79, 89, 97, 99])"
      ]
     },
     "execution_count": 9,
     "metadata": {},
     "output_type": "execute_result"
    }
   ],
   "source": [
    "man = [[random.randint(0,100) for x in range(5)] for y in range(5)]\n",
    "man\n",
    "np.max(man, axis=1)"
   ]
  },
  {
   "cell_type": "code",
   "execution_count": 25,
   "id": "distant-tiffany",
   "metadata": {},
   "outputs": [
    {
     "data": {
      "text/plain": [
       "(100,)"
      ]
     },
     "execution_count": 25,
     "metadata": {},
     "output_type": "execute_result"
    }
   ],
   "source": [
    "vec = np.random.randint(0, 1000, 100)\n",
    "vec.shape"
   ]
  },
  {
   "cell_type": "code",
   "execution_count": 26,
   "id": "accepted-weight",
   "metadata": {},
   "outputs": [
    {
     "data": {
      "text/plain": [
       "43"
      ]
     },
     "execution_count": 26,
     "metadata": {},
     "output_type": "execute_result"
    }
   ],
   "source": [
    "np.argmax(vec)"
   ]
  },
  {
   "cell_type": "code",
   "execution_count": 27,
   "id": "powered-nashville",
   "metadata": {},
   "outputs": [
    {
     "data": {
      "text/plain": [
       "995"
      ]
     },
     "execution_count": 27,
     "metadata": {},
     "output_type": "execute_result"
    }
   ],
   "source": [
    "np.max(vec)"
   ]
  },
  {
   "cell_type": "code",
   "execution_count": 30,
   "id": "oriented-bishop",
   "metadata": {},
   "outputs": [],
   "source": [
    "nvec = vec.reshape(10,10)"
   ]
  },
  {
   "cell_type": "code",
   "execution_count": 31,
   "id": "approved-reynolds",
   "metadata": {},
   "outputs": [
    {
     "data": {
      "text/plain": [
       "array([566.4, 425.7, 581.5, 519.4, 412.4, 329. , 605.1, 386.7, 605.5,\n",
       "       588.8])"
      ]
     },
     "execution_count": 31,
     "metadata": {},
     "output_type": "execute_result"
    }
   ],
   "source": [
    "np.average(nvec, axis=0)"
   ]
  },
  {
   "cell_type": "code",
   "execution_count": 32,
   "id": "sporting-century",
   "metadata": {},
   "outputs": [
    {
     "data": {
      "text/plain": [
       "array([661.4, 391.5, 488.1, 530.4, 397.5, 508.6, 593.8, 543.8, 528.1,\n",
       "       377.3])"
      ]
     },
     "execution_count": 32,
     "metadata": {},
     "output_type": "execute_result"
    }
   ],
   "source": [
    "np.average(nvec, axis=1)"
   ]
  },
  {
   "cell_type": "code",
   "execution_count": 33,
   "id": "encouraging-animation",
   "metadata": {},
   "outputs": [
    {
     "data": {
      "text/plain": [
       "array([5664, 4257, 5815, 5194, 4124, 3290, 6051, 3867, 6055, 5888])"
      ]
     },
     "execution_count": 33,
     "metadata": {},
     "output_type": "execute_result"
    }
   ],
   "source": [
    "np.sum(nvec, axis=0)"
   ]
  },
  {
   "cell_type": "code",
   "execution_count": 34,
   "id": "behavioral-language",
   "metadata": {},
   "outputs": [
    {
     "data": {
      "text/plain": [
       "array([6614, 3915, 4881, 5304, 3975, 5086, 5938, 5438, 5281, 3773])"
      ]
     },
     "execution_count": 34,
     "metadata": {},
     "output_type": "execute_result"
    }
   ],
   "source": [
    "np.sum(nvec, axis=1)"
   ]
  },
  {
   "cell_type": "code",
   "execution_count": null,
   "id": "according-straight",
   "metadata": {},
   "outputs": [],
   "source": []
  }
 ],
 "metadata": {
  "kernelspec": {
   "display_name": "Python 3",
   "language": "python",
   "name": "python3"
  },
  "language_info": {
   "codemirror_mode": {
    "name": "ipython",
    "version": 3
   },
   "file_extension": ".py",
   "mimetype": "text/x-python",
   "name": "python",
   "nbconvert_exporter": "python",
   "pygments_lexer": "ipython3",
   "version": "3.9.2"
  }
 },
 "nbformat": 4,
 "nbformat_minor": 5
}
