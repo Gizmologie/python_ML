{
 "cells": [
  {
   "cell_type": "code",
   "execution_count": 5,
   "id": "disabled-private",
   "metadata": {},
   "outputs": [
    {
     "data": {
      "text/plain": [
       "'1.20.2'"
      ]
     },
     "execution_count": 5,
     "metadata": {},
     "output_type": "execute_result"
    }
   ],
   "source": [
    "import numpy as np\n",
    "np.version.version"
   ]
  },
  {
   "cell_type": "code",
   "execution_count": 6,
   "id": "bulgarian-gathering",
   "metadata": {},
   "outputs": [
    {
     "name": "stdout",
     "output_type": "stream",
     "text": [
      "blas_mkl_info:\n",
      "  NOT AVAILABLE\n",
      "blis_info:\n",
      "  NOT AVAILABLE\n",
      "openblas_info:\n",
      "    library_dirs = ['D:\\\\a\\\\1\\\\s\\\\numpy\\\\build\\\\openblas_info']\n",
      "    libraries = ['openblas_info']\n",
      "    language = f77\n",
      "    define_macros = [('HAVE_CBLAS', None)]\n",
      "blas_opt_info:\n",
      "    library_dirs = ['D:\\\\a\\\\1\\\\s\\\\numpy\\\\build\\\\openblas_info']\n",
      "    libraries = ['openblas_info']\n",
      "    language = f77\n",
      "    define_macros = [('HAVE_CBLAS', None)]\n",
      "lapack_mkl_info:\n",
      "  NOT AVAILABLE\n",
      "openblas_lapack_info:\n",
      "    library_dirs = ['D:\\\\a\\\\1\\\\s\\\\numpy\\\\build\\\\openblas_lapack_info']\n",
      "    libraries = ['openblas_lapack_info']\n",
      "    language = f77\n",
      "    define_macros = [('HAVE_CBLAS', None)]\n",
      "lapack_opt_info:\n",
      "    library_dirs = ['D:\\\\a\\\\1\\\\s\\\\numpy\\\\build\\\\openblas_lapack_info']\n",
      "    libraries = ['openblas_lapack_info']\n",
      "    language = f77\n",
      "    define_macros = [('HAVE_CBLAS', None)]\n"
     ]
    }
   ],
   "source": [
    "np.show_config()"
   ]
  },
  {
   "cell_type": "code",
   "execution_count": 41,
   "id": "little-compilation",
   "metadata": {},
   "outputs": [
    {
     "data": {
      "text/plain": [
       "array([0, 0, 0, 0, 0, 0, 0, 0, 0, 0])"
      ]
     },
     "execution_count": 41,
     "metadata": {},
     "output_type": "execute_result"
    }
   ],
   "source": [
    "vec = np.zeros(10, int) #Pour avoir des valeurs null, je dois utiliser empty plutot que zeros mais le vecteur est moins lisible avec empty\n",
    "vec"
   ]
  },
  {
   "cell_type": "code",
   "execution_count": 42,
   "id": "fitted-warrant",
   "metadata": {},
   "outputs": [
    {
     "data": {
      "text/plain": [
       "array([0, 0, 0, 1, 0, 0, 0, 0, 0, 0])"
      ]
     },
     "execution_count": 42,
     "metadata": {},
     "output_type": "execute_result"
    }
   ],
   "source": [
    "np.put(vec, [3], [1])\n",
    "vec"
   ]
  },
  {
   "cell_type": "code",
   "execution_count": 47,
   "id": "organized-sampling",
   "metadata": {},
   "outputs": [
    {
     "data": {
      "text/plain": [
       "array([10, 11, 12, 13, 14, 15, 16, 17, 18, 19, 20, 21, 22, 23, 24, 25, 26,\n",
       "       27, 28, 29, 30, 31, 32, 33, 34, 35, 36, 37, 38, 39, 40, 41, 42, 43,\n",
       "       44, 45, 46, 47, 48, 49])"
      ]
     },
     "execution_count": 47,
     "metadata": {},
     "output_type": "execute_result"
    }
   ],
   "source": [
    "a = np.arange(10, 50, 1)\n",
    "a"
   ]
  },
  {
   "cell_type": "code",
   "execution_count": 53,
   "id": "agricultural-attempt",
   "metadata": {},
   "outputs": [
    {
     "data": {
      "text/plain": [
       "array([49, 48, 47, 46, 45, 44, 43, 42, 41, 40, 39, 38, 37, 36, 35, 34, 33,\n",
       "       32, 31, 30, 29, 28, 27, 26, 25, 24, 23, 22, 21, 20, 19, 18, 17, 16,\n",
       "       15, 14, 13, 12, 11, 10])"
      ]
     },
     "execution_count": 53,
     "metadata": {},
     "output_type": "execute_result"
    }
   ],
   "source": [
    "reversed_a = np.flip(a)\n",
    "reversed_a"
   ]
  },
  {
   "cell_type": "code",
   "execution_count": 77,
   "id": "extensive-citizenship",
   "metadata": {},
   "outputs": [
    {
     "data": {
      "text/plain": [
       "array([[0, 1, 2],\n",
       "       [3, 4, 5],\n",
       "       [6, 7, 8]])"
      ]
     },
     "execution_count": 77,
     "metadata": {},
     "output_type": "execute_result"
    }
   ],
   "source": [
    "mat = np.arange(0,9,1).reshape(3,3)\n",
    "mat"
   ]
  },
  {
   "cell_type": "code",
   "execution_count": 79,
   "id": "ambient-carry",
   "metadata": {},
   "outputs": [
    {
     "data": {
      "text/plain": [
       "array([[1, 0, 0],\n",
       "       [0, 1, 0],\n",
       "       [0, 0, 1]])"
      ]
     },
     "execution_count": 79,
     "metadata": {},
     "output_type": "execute_result"
    }
   ],
   "source": [
    "np.identity(3, int)"
   ]
  },
  {
   "cell_type": "code",
   "execution_count": 94,
   "id": "indoor-defensive",
   "metadata": {},
   "outputs": [
    {
     "data": {
      "text/plain": [
       "array([[[80, 89, 95],\n",
       "        [65, 86,  8],\n",
       "        [26, 80, 48]],\n",
       "\n",
       "       [[16, 36, 86],\n",
       "        [71,  1, 92],\n",
       "        [69, 52, 40]],\n",
       "\n",
       "       [[53,  8, 65],\n",
       "        [32, 98, 39],\n",
       "        [47, 76, 23]]])"
      ]
     },
     "execution_count": 94,
     "metadata": {},
     "output_type": "execute_result"
    }
   ],
   "source": [
    "dim = np.random.randint(0, 100, 27).reshape(3,3,3)\n",
    "dim"
   ]
  },
  {
   "cell_type": "code",
   "execution_count": 100,
   "id": "funny-anniversary",
   "metadata": {},
   "outputs": [
    {
     "name": "stdout",
     "output_type": "stream",
     "text": [
      "[[26 64 31 57 63 68 57 17 87 58]\n",
      " [ 6 52 41 58 76 97 10 24 65 85]\n",
      " [50 11  3 18 21 45 78 91  6 75]\n",
      " [78 92 74 92 72 42 23 48 65 22]\n",
      " [86 99 38 99 52 73 66 64 89 11]\n",
      " [24  5 30  9  2 12 82 67 90 13]\n",
      " [64 74 45 19 38 43 41 62 27 19]\n",
      " [ 5 63 61  1 51 20  7 45  9 64]\n",
      " [23 61 45 80 50 85 26 33  5 17]\n",
      " [58 11 52 15 95 86 79 13 58 29]]\n",
      "99\n",
      "1\n"
     ]
    }
   ],
   "source": [
    "b = np.random.randint(0, 100, 100).reshape(10,10)\n",
    "print(b)\n",
    "print(np.amax(b))\n",
    "print(np.amin(b))"
   ]
  },
  {
   "cell_type": "markdown",
   "id": "circular-shock",
   "metadata": {},
   "source": [
    "## question 11 à faire"
   ]
  },
  {
   "cell_type": "code",
   "execution_count": 104,
   "id": "experimental-prairie",
   "metadata": {},
   "outputs": [
    {
     "name": "stdout",
     "output_type": "stream",
     "text": [
      "[83 24 64  4 76]\n",
      "251\n"
     ]
    }
   ],
   "source": [
    "somme = np.random.randint(0, 100, 5)\n",
    "print(somme)\n",
    "print(somme.sum())"
   ]
  },
  {
   "cell_type": "code",
   "execution_count": 112,
   "id": "distinct-sleep",
   "metadata": {},
   "outputs": [
    {
     "name": "stdout",
     "output_type": "stream",
     "text": [
      "[24 73 25 88  2]\n",
      "42.4\n"
     ]
    }
   ],
   "source": [
    "moy = np.random.randint(0, 100, 5)\n",
    "print(moy)\n",
    "print(np.average(moy))"
   ]
  },
  {
   "cell_type": "code",
   "execution_count": 119,
   "id": "undefined-yellow",
   "metadata": {},
   "outputs": [
    {
     "name": "stdout",
     "output_type": "stream",
     "text": [
      "[0, 1, 2, 3, 4, 5, 6, 7, 8, 9, 10]\n",
      "10\n"
     ]
    }
   ],
   "source": [
    "l = [x for x in range(11)]\n",
    "print(l)\n",
    "print(np.ptp(l))#numpy me donne la valeur du dernière indice donc la range-1"
   ]
  },
  {
   "cell_type": "code",
   "execution_count": null,
   "id": "revised-circumstances",
   "metadata": {},
   "outputs": [],
   "source": []
  }
 ],
 "metadata": {
  "kernelspec": {
   "display_name": "Python 3",
   "language": "python",
   "name": "python3"
  },
  "language_info": {
   "codemirror_mode": {
    "name": "ipython",
    "version": 3
   },
   "file_extension": ".py",
   "mimetype": "text/x-python",
   "name": "python",
   "nbconvert_exporter": "python",
   "pygments_lexer": "ipython3",
   "version": "3.9.2"
  }
 },
 "nbformat": 4,
 "nbformat_minor": 5
}
