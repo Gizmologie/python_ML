{
 "cells": [
  {
   "cell_type": "markdown",
   "id": "hungarian-hormone",
   "metadata": {},
   "source": [
    "# Exercices Algo"
   ]
  },
  {
   "cell_type": "markdown",
   "id": "approximate-bryan",
   "metadata": {},
   "source": [
    "## 1. Bases"
   ]
  },
  {
   "cell_type": "code",
   "execution_count": 1,
   "id": "answering-clothing",
   "metadata": {},
   "outputs": [
    {
     "name": "stdout",
     "output_type": "stream",
     "text": [
      "1 2\n",
      "2 1\n"
     ]
    }
   ],
   "source": [
    "a = 1\n",
    "b = 2\n",
    "print(a, b)\n",
    "c = a\n",
    "a = b\n",
    "b = c\n",
    "print (a, b)"
   ]
  },
  {
   "cell_type": "code",
   "execution_count": null,
   "id": "motivated-charm",
   "metadata": {},
   "outputs": [],
   "source": [
    "a=int(input())\n",
    "print(a*a)"
   ]
  },
  {
   "cell_type": "code",
   "execution_count": null,
   "id": "direct-spirituality",
   "metadata": {},
   "outputs": [],
   "source": [
    "v=int(input())\n",
    "if v>=0:\n",
    "    print(\"positif\") \n",
    "else:\n",
    "    print(\"negatif\")\n"
   ]
  },
  {
   "cell_type": "code",
   "execution_count": null,
   "id": "suspected-ministry",
   "metadata": {},
   "outputs": [],
   "source": [
    "a=int(input())\n",
    "b=int(input())\n",
    "if a<0 or b<0:\n",
    "    print('negatif')\n",
    "else:\n",
    "    print('positif')"
   ]
  },
  {
   "cell_type": "code",
   "execution_count": null,
   "id": "furnished-relief",
   "metadata": {},
   "outputs": [],
   "source": [
    "a=int(input())\n",
    "i = 0\n",
    "while i <10:\n",
    "    print(a+i)\n",
    "    i+=1"
   ]
  },
  {
   "cell_type": "code",
   "execution_count": null,
   "id": "infectious-satellite",
   "metadata": {},
   "outputs": [],
   "source": [
    "a=int(input())\n",
    "aux=0\n",
    "i=0\n",
    "while i<a:\n",
    "    aux += i\n",
    "    i+=1\n",
    "print(aux)"
   ]
  },
  {
   "cell_type": "markdown",
   "id": "adjustable-giving",
   "metadata": {},
   "source": [
    "## 2. Tableaux"
   ]
  },
  {
   "cell_type": "code",
   "execution_count": null,
   "id": "reliable-peoples",
   "metadata": {},
   "outputs": [],
   "source": [
    "a=0\n",
    "tab = [i for i in range(10)]\n",
    "\n",
    "for j in range(0, len(tab), 1):\n",
    "    a += tab[j]\n",
    "    print(a)"
   ]
  },
  {
   "cell_type": "code",
   "execution_count": null,
   "id": "entertaining-courtesy",
   "metadata": {},
   "outputs": [],
   "source": [
    "tab1 = [i for i in range(10)]\n",
    "tab2 = [j for j in range(1, 30, 3)]\n",
    "tab3 = [tab1[k]+tab2[k] for k in range(len(tab1))]\n",
    "tab3"
   ]
  },
  {
   "cell_type": "code",
   "execution_count": null,
   "id": "responsible-pontiac",
   "metadata": {},
   "outputs": [],
   "source": [
    "tab1 = [i for i in range(10)]\n",
    "tab2 = [j for j in range(1, 30, 3)]\n",
    "aux=0\n",
    "aux = [aux + tab1[k]*tab2[k] for k in range(len(tab1))] \n",
    "aux[len(aux)-1]"
   ]
  },
  {
   "cell_type": "code",
   "execution_count": null,
   "id": "saved-friday",
   "metadata": {},
   "outputs": [],
   "source": [
    "tab1 = [int(input()) for i in range(10)]\n",
    "max(tab1)"
   ]
  },
  {
   "cell_type": "code",
   "execution_count": 36,
   "id": "specialized-peeing",
   "metadata": {},
   "outputs": [
    {
     "name": "stdout",
     "output_type": "stream",
     "text": [
      "11\n",
      "50\n",
      "60\n",
      "90\n"
     ]
    }
   ],
   "source": [
    "prices = [5, 11, 3, 50, 60, 90, 12, 16, 7]\n",
    "output = []\n",
    "mini = 0;\n",
    "maxi = 0;\n",
    "for i in range (0, len(prices), 1):\n",
    "    if i<len(prices):\n",
    "        if prices[i]<prices[i-1] and prices[i]<prices[i+1]:\n",
    "            mini = prices[i]      \n",
    "            for j in range (i, len(prices), 1):\n",
    "                if (j+1<len(prices)):\n",
    "                    print(\"test\")\n",
    "                    if prices[j]>prices[j+1] or j+1>=len(prices):\n",
    "                        maxi=prices[j]\n",
    "                        output.append(maxi-mini)\n",
    "                        print(output)\n",
    "                        break      "
   ]
  },
  {
   "cell_type": "code",
   "execution_count": 47,
   "id": "adapted-attendance",
   "metadata": {},
   "outputs": [
    {
     "name": "stdout",
     "output_type": "stream",
     "text": [
      "[6, 87]\n"
     ]
    }
   ],
   "source": [
    "prices = [5, 11, 3, 50, 60, 90, 7]\n",
    "output = []\n",
    "mini = 0;\n",
    "maxi = 0;\n",
    "for i in range (0, len(prices), 1):\n",
    "    if i+1<len(prices):\n",
    "        if prices[i]<prices[i-1] and prices[i]<prices[i+1]:\n",
    "            mini = prices[i]      \n",
    "            for j in range (i, len(prices), 1):\n",
    "                if (j+1<len(prices)):\n",
    "                    if prices[j]>prices[j+1] or j+1>=len(prices):\n",
    "                        maxi=prices[j]\n",
    "                        output.append(maxi-mini)   \n",
    "                        break    \n",
    "\n",
    "print(output)"
   ]
  },
  {
   "cell_type": "code",
   "execution_count": null,
   "id": "hired-check",
   "metadata": {},
   "outputs": [],
   "source": []
  }
 ],
 "metadata": {
  "kernelspec": {
   "display_name": "Python 3",
   "language": "python",
   "name": "python3"
  },
  "language_info": {
   "codemirror_mode": {
    "name": "ipython",
    "version": 3
   },
   "file_extension": ".py",
   "mimetype": "text/x-python",
   "name": "python",
   "nbconvert_exporter": "python",
   "pygments_lexer": "ipython3",
   "version": "3.9.2"
  }
 },
 "nbformat": 4,
 "nbformat_minor": 5
}
