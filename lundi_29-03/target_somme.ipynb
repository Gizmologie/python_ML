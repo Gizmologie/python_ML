{
 "cells": [
  {
   "cell_type": "markdown",
   "id": "behind-criterion",
   "metadata": {},
   "source": [
    "## 1 : Tagret somme"
   ]
  },
  {
   "cell_type": "code",
   "execution_count": 17,
   "id": "crude-marketplace",
   "metadata": {},
   "outputs": [
    {
     "name": "stdin",
     "output_type": "stream",
     "text": [
      " 10\n"
     ]
    },
    {
     "name": "stdout",
     "output_type": "stream",
     "text": [
      "[11, -1]\n"
     ]
    }
   ],
   "source": [
    "def targetSomme(tab):\n",
    "    output = []\n",
    "    val=int(input())\n",
    "    for i in range (0, len(tab), 1):\n",
    "        for a in tab:\n",
    "            if tab[i]+a==val and tab[i]!=a:\n",
    "                output.append(tab[i]);\n",
    "    return output;\n",
    "print(targetSomme([3, 5, -4, 8, 11, 1, -1, 6]));"
   ]
  },
  {
   "cell_type": "markdown",
   "id": "english-municipality",
   "metadata": {},
   "source": [
    "### complexité temporelle\n",
    "O(n^2)\n",
    "\n",
    "n pour le nombre d'entré dans le tableau. \n",
    "A la puissance 2 car je compare une entrée avec chaque autre."
   ]
  },
  {
   "cell_type": "code",
   "execution_count": null,
   "id": "nervous-sailing",
   "metadata": {},
   "outputs": [],
   "source": []
  }
 ],
 "metadata": {
  "kernelspec": {
   "display_name": "Python 3",
   "language": "python",
   "name": "python3"
  },
  "language_info": {
   "codemirror_mode": {
    "name": "ipython",
    "version": 3
   },
   "file_extension": ".py",
   "mimetype": "text/x-python",
   "name": "python",
   "nbconvert_exporter": "python",
   "pygments_lexer": "ipython3",
   "version": "3.9.2"
  }
 },
 "nbformat": 4,
 "nbformat_minor": 5
}
