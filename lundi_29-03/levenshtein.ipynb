{
 "cells": [
  {
   "cell_type": "code",
   "execution_count": 202,
   "id": "annual-bracelet",
   "metadata": {},
   "outputs": [
    {
     "name": "stdout",
     "output_type": "stream",
     "text": [
      "[0, 1, 2, 3, 4, 5, 6]\n",
      "[1, 0, 1, 2, 3, 4, 5]\n",
      "[2, 1, 1, 2, 3, 4, 5]\n",
      "[3, 2, 2, 1, 2, 3, 4]\n",
      "[4, 3, 3, 2, 1, 2, 3]\n",
      "[5, 4, 4, 3, 2, 1, 2]\n",
      "Wall time: 966 µs\n"
     ]
    },
    {
     "data": {
      "text/plain": [
       "2"
      ]
     },
     "execution_count": 202,
     "metadata": {},
     "output_type": "execute_result"
    }
   ],
   "source": [
    "%%time\n",
    "def levenshtein(str1, str2):\n",
    "    mat = [[0 for x in range(len(str2)+1)] for y in range(len(str1)+1)]\n",
    "    val = 0\n",
    "    #Initialisation\n",
    "    for x in range(0, len(str1)+1, 1):\n",
    "        for y in range(0, len(str2)+1, 1):\n",
    "            if x==0:\n",
    "                mat[0][y]=y\n",
    "            elif y==0:\n",
    "                mat[x][0]=x                             \n",
    "    \n",
    "    #Calcul\n",
    "    for x in range(1, len(str1)+1, 1):\n",
    "        for y in range(1, len(str2)+1, 1):\n",
    "            \n",
    "            if str1[x-1]==str2[y-1]:\n",
    "                val=0\n",
    "            else:\n",
    "                val=1\n",
    "        \n",
    "            if mat[x-1][y-1]<=mat[x-1][y] and mat[x-1][y-1]<=mat[x][y-1]:\n",
    "                mat[x][y]=mat[x-1][y-1]+val\n",
    "            elif mat[x][y-1]<=mat[x-1][y] and mat[x][y-1]<=mat[x-1][y-1]:\n",
    "                mat[x][y]=mat[x][y-1]+val\n",
    "            elif mat[x-1][y]<=mat[x][y-1] and mat[x-1][y]<=mat[x-1][y-1]:\n",
    "                mat[x][y]=mat[x-1][y]+val\n",
    "    \n",
    "    \n",
    "    #print format matriciel \n",
    "    for value in mat:\n",
    "        print(value)\n",
    "        \n",
    "    return mat[len(str1)][len(str2)]\n",
    "        \n",
    "#levenshtein(\"chiens\", \"niche\")\n",
    "#levenshtein(\"macon\", \"maison\")\n",
    "levenshtein(\"gumbo\", \"gambol\")"
   ]
  }
 ],
 "metadata": {
  "kernelspec": {
   "display_name": "Python 3",
   "language": "python",
   "name": "python3"
  },
  "language_info": {
   "codemirror_mode": {
    "name": "ipython",
    "version": 3
   },
   "file_extension": ".py",
   "mimetype": "text/x-python",
   "name": "python",
   "nbconvert_exporter": "python",
   "pygments_lexer": "ipython3",
   "version": "3.9.2"
  }
 },
 "nbformat": 4,
 "nbformat_minor": 5
}
