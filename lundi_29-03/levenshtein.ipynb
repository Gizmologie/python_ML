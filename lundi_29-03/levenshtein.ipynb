{
 "cells": [
  {
   "cell_type": "code",
   "execution_count": 180,
   "id": "adjustable-modem",
   "metadata": {},
   "outputs": [
    {
     "name": "stdout",
     "output_type": "stream",
     "text": [
      "[0, 1, 2, 3, 4, 5]\n",
      "[1, 1, 2, 3, 4, 4]\n",
      "[2, 2, 2, 2, 3, 4]\n",
      "[3, 2, 3, 3, 3, 4]\n",
      "[4, 3, 2, 3, 4, 4]\n",
      "[5, 4, 3, 3, 3, 4]\n",
      "Wall time: 1 ms\n"
     ]
    }
   ],
   "source": [
    "%%time\n",
    "def levenshtein(str1, str2):\n",
    "    mat = [[0 for x in range(len(str2)+1)] for y in range(len(str1)+1)]\n",
    "    val = 0\n",
    "    #Initialisation\n",
    "    for x in range(0, len(str1)+1, 1):\n",
    "        for y in range(0, len(str2)+1, 1):\n",
    "            if x==0:\n",
    "                mat[0][y]=y\n",
    "            elif y==0:\n",
    "                mat[x][0]=x                             \n",
    "    \n",
    "    #Calcul\n",
    "    for x in range(1, len(str1)+1, 1):\n",
    "        for y in range(1, len(str2)+1, 1):\n",
    "            if str1[y-1]==str2[x-1]:\n",
    "                val=0\n",
    "            else:\n",
    "                val=1\n",
    "            if mat[x-1][y-1]<=mat[x-1][y] and mat[x-1][y-1]<=mat[x][y-1]:\n",
    "                mat[x][y]=mat[x-1][y-1]+val\n",
    "            elif mat[x][y-1]<=mat[x-1][y]and mat[x][y-1]<=mat[x-1][y-1]:\n",
    "                mat[x][y]=mat[x][y-1]+val\n",
    "            elif mat[x-1][y]<=mat[x][y-1] and mat[x-1][y]<=mat[x-1][y-1]:\n",
    "                mat[x][y]=mat[x-1][y]+val\n",
    "    \n",
    "    #print format matriciel \n",
    "    for value in mat:\n",
    "        print(value)\n",
    "        \n",
    "levenshtein(\"chien\", \"niche\")"
   ]
  },
  {
   "cell_type": "code",
   "execution_count": null,
   "id": "macro-darwin",
   "metadata": {},
   "outputs": [],
   "source": []
  }
 ],
 "metadata": {
  "kernelspec": {
   "display_name": "Python 3",
   "language": "python",
   "name": "python3"
  },
  "language_info": {
   "codemirror_mode": {
    "name": "ipython",
    "version": 3
   },
   "file_extension": ".py",
   "mimetype": "text/x-python",
   "name": "python",
   "nbconvert_exporter": "python",
   "pygments_lexer": "ipython3",
   "version": "3.9.2"
  }
 },
 "nbformat": 4,
 "nbformat_minor": 5
}
