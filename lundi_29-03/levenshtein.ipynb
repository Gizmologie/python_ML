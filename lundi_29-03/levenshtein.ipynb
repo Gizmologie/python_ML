{
 "cells": [
  {
   "cell_type": "code",
   "execution_count": 142,
   "id": "comfortable-record",
   "metadata": {},
   "outputs": [
    {
     "name": "stdout",
     "output_type": "stream",
     "text": [
      "[0, 1, 2, 3, 4, 5]\n",
      "[1, 0, 0, 0, 0, 0]\n",
      "[2, 0, 0, 0, 0, 0]\n",
      "[3, 0, 0, 0, 0, 0]\n",
      "[4, 0, 0, 0, 0, 0]\n",
      "[5, 0, 0, 0, 0, 0]\n",
      "Wall time: 510 µs\n"
     ]
    }
   ],
   "source": [
    "%%time\n",
    "def levenshtein(str1, str2):\n",
    "    mat = [[0 for x in range(len(str2)+1)] for y in range(len(str1)+1)]\n",
    "    \n",
    "    for x in range(0, len(str1)+1, 1):\n",
    "        for y in range(0, len(str2)+1, 1):\n",
    "            if x==0:\n",
    "                mat[0][y]=y\n",
    "            elif y==0:\n",
    "                mat[x][0]=x\n",
    "    \n",
    "    #print format matriciel \n",
    "    for value in mat:\n",
    "        print(value)\n",
    "levenshtein(\"chien\", \"niche\")"
   ]
  },
  {
   "cell_type": "code",
   "execution_count": null,
   "id": "sunset-essex",
   "metadata": {},
   "outputs": [],
   "source": []
  }
 ],
 "metadata": {
  "kernelspec": {
   "display_name": "Python 3",
   "language": "python",
   "name": "python3"
  },
  "language_info": {
   "codemirror_mode": {
    "name": "ipython",
    "version": 3
   },
   "file_extension": ".py",
   "mimetype": "text/x-python",
   "name": "python",
   "nbconvert_exporter": "python",
   "pygments_lexer": "ipython3",
   "version": "3.9.2"
  }
 },
 "nbformat": 4,
 "nbformat_minor": 5
}
